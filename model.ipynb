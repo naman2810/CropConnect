{
  "cells": [
    {
      "cell_type": "markdown",
      "metadata": {
        "id": "zykLZO_6DzMb"
      },
      "source": [
        "# Tomato Leaf Detection using VGG19 model\n",
        "## Very Deep Convolutional Networks for Large-Scale Image Recognition"
      ]
    },
    {
      "cell_type": "markdown",
      "metadata": {
        "id": "U8H_l4awDzMi"
      },
      "source": [
        "# Importing all the requirements"
      ]
    },
    {
      "cell_type": "code",
      "execution_count": 1,
      "metadata": {
        "id": "GoFP_FinDzMl"
      },
      "outputs": [],
      "source": [
        "import numpy as np\n",
        "import pandas as pd\n",
        "import os"
      ]
    },
    {
      "cell_type": "markdown",
      "metadata": {
        "id": "EgxKOWYmDzMq"
      },
      "source": [
        "# Creating the path"
      ]
    },
    {
      "cell_type": "code",
      "execution_count": 2,
      "metadata": {
        "colab": {
          "base_uri": "https://localhost:8080/"
        },
        "id": "wuABox8OEj_v",
        "outputId": "33701ddd-cd0e-4403-8cdc-6ac42909efe3"
      },
      "outputs": [
        {
          "name": "stdout",
          "output_type": "stream",
          "text": [
            "Mounted at /content/drive\n"
          ]
        }
      ],
      "source": [
        "# Importing the images \n",
        "from google.colab import drive\n",
        "drive.mount('/content/drive')"
      ]
    },
    {
      "cell_type": "code",
      "execution_count": 9,
      "metadata": {
        "id": "0J1rbTD7Epa0"
      },
      "outputs": [],
      "source": [
        "from zipfile import ZipFile\n",
        "with ZipFile('/content/drive/MyDrive/BTP/Dataset/tomato.zip','r') as zipObj:\n",
        "  zipObj.extractall('/content/drive/MyDrive/BTP/Dataset/dataset')"
      ]
    },
    {
      "cell_type": "code",
      "execution_count": 10,
      "metadata": {
        "id": "XJ087VqJEsVe"
      },
      "outputs": [],
      "source": [
        "train_path='/content/drive/MyDrive/BTP/Dataset/dataset/New Plant Diseases Dataset(Augmented)/train/'\n",
        "valid_path='/content/drive/MyDrive/BTP/Dataset/dataset/New Plant Diseases Dataset(Augmented)/valid/'"
      ]
    },
    {
      "cell_type": "code",
      "execution_count": 11,
      "metadata": {
        "colab": {
          "base_uri": "https://localhost:8080/"
        },
        "id": "ZAaoarlyDzMr",
        "outputId": "2b72220f-7719-4182-aaed-beff6c6a4073"
      },
      "outputs": [
        {
          "name": "stdout",
          "output_type": "stream",
          "text": [
            "['Tomato___Bacterial_spot', 'Tomato___Early_blight', 'Tomato___Late_blight', 'Tomato___Leaf_Mold', 'Tomato___Septoria_leaf_spot', 'Tomato___Spider_mites Two-spotted_spider_mite', 'Tomato___Target_Spot', 'Tomato___Tomato_Yellow_Leaf_Curl_Virus', 'Tomato___Tomato_mosaic_virus', 'Tomato___healthy']\n",
            "****************************************************************************************************\n",
            "['Tomato___Bacterial_spot', 'Tomato___Early_blight', 'Tomato___Late_blight', 'Tomato___Leaf_Mold', 'Tomato___Septoria_leaf_spot', 'Tomato___Spider_mites Two-spotted_spider_mite', 'Tomato___Target_Spot', 'Tomato___Tomato_Yellow_Leaf_Curl_Virus', 'Tomato___Tomato_mosaic_virus', 'Tomato___healthy']\n"
          ]
        }
      ],
      "source": [
        "# train_path='./train/'\n",
        "print(os.listdir(train_path))\n",
        "print(\"*\"*100)\n",
        "# valid_path='./valid/'\n",
        "print(os.listdir(valid_path))"
      ]
    },
    {
      "cell_type": "code",
      "execution_count": 12,
      "metadata": {
        "colab": {
          "base_uri": "https://localhost:8080/"
        },
        "id": "QHz__FUDDzMu",
        "outputId": "e7c2f249-b0c9-4e26-bfb0-6be20c6b4c6f"
      },
      "outputs": [
        {
          "data": {
            "text/plain": [
              "['Tomato___Bacterial_spot',\n",
              " 'Tomato___Early_blight',\n",
              " 'Tomato___Late_blight',\n",
              " 'Tomato___Leaf_Mold',\n",
              " 'Tomato___Septoria_leaf_spot',\n",
              " 'Tomato___Spider_mites Two-spotted_spider_mite',\n",
              " 'Tomato___Target_Spot',\n",
              " 'Tomato___Tomato_Yellow_Leaf_Curl_Virus',\n",
              " 'Tomato___Tomato_mosaic_virus',\n",
              " 'Tomato___healthy']"
            ]
          },
          "execution_count": 12,
          "metadata": {},
          "output_type": "execute_result"
        }
      ],
      "source": [
        "folder=(os.listdir(train_path))\n",
        "folder"
      ]
    },
    {
      "cell_type": "markdown",
      "metadata": {
        "id": "klTttUsnDzMv"
      },
      "source": [
        "# Represting the Tomatos"
      ]
    },
    {
      "cell_type": "markdown",
      "metadata": {
        "id": "_hSy7IzLDzMw"
      },
      "source": [
        "<ul>\n",
        "    <li><h3>ty : being the type of disease</h3></li>\n",
        "    <li><h3>index : being the image in the data sets.</h3></li>\n",
        "</ul>"
      ]
    },
    {
      "cell_type": "code",
      "execution_count": 13,
      "metadata": {
        "colab": {
          "base_uri": "https://localhost:8080/",
          "height": 298
        },
        "id": "WNjvZQcuDzMy",
        "outputId": "5881984c-f56e-47d9-b73c-bcecbe01ea90"
      },
      "outputs": [
        {
          "data": {
            "text/plain": [
              "Text(0.5, 1.0, 'Tomato___Late_blight')"
            ]
          },
          "execution_count": 13,
          "metadata": {},
          "output_type": "execute_result"
        },
        {
          "data": {
            "image/png": "[encoded data removed]",
            "text/plain": [
              "<Figure size 432x288 with 1 Axes>"
            ]
          },
          "metadata": {
            "needs_background": "light"
          },
          "output_type": "display_data"
        }
      ],
      "source": [
        "ty=2\n",
        "index=25\n",
        "import matplotlib.pyplot as plt\n",
        "plt.imshow(plt.imread(train_path+folder[ty]+\"/\"+(os.listdir(train_path+folder[ty])[index])))\n",
        "plt.title(folder[ty])"
      ]
    },
    {
      "cell_type": "markdown",
      "metadata": {
        "id": "mRyhwl-0DzM0"
      },
      "source": [
        "# Importing packages"
      ]
    },
    {
      "cell_type": "code",
      "execution_count": 14,
      "metadata": {
        "id": "Jei-o8aaDzM1"
      },
      "outputs": [],
      "source": [
        "from tensorflow.keras.layers import Lambda, Dense , Flatten\n",
        "from tensorflow.keras.models import Model\n",
        "from tensorflow.keras.applications.vgg19 import VGG19\n",
        "from tensorflow.keras.preprocessing import image\n",
        "from tensorflow.keras.preprocessing.image import ImageDataGenerator\n",
        "import tensorflow as tf"
      ]
    },
    {
      "cell_type": "code",
      "execution_count": 15,
      "metadata": {
        "colab": {
          "base_uri": "https://localhost:8080/"
        },
        "id": "dhBPuuQkDzM2",
        "outputId": "6621422a-5483-4591-d0ca-4b631bd4d612"
      },
      "outputs": [
        {
          "name": "stdout",
          "output_type": "stream",
          "text": [
            "Downloading data from https://storage.googleapis.com/tensorflow/keras-applications/vgg19/vgg19_weights_tf_dim_ordering_tf_kernels_notop.h5\n",
            "80134624/80134624 [==============================] - 4s 0us/step\n"
          ]
        }
      ],
      "source": [
        "size=[128,128]\n",
        "vgg19=VGG19(input_shape=size+[3],weights='imagenet',include_top=False)"
      ]
    },
    {
      "cell_type": "markdown",
      "metadata": {
        "id": "eyQOCnRiDzM4"
      },
      "source": [
        "# Freezing the rest of the layers"
      ]
    },
    {
      "cell_type": "code",
      "execution_count": 16,
      "metadata": {
        "id": "PYimVUpvDzM5"
      },
      "outputs": [],
      "source": [
        "for layer in vgg19.layers:\n",
        "    layer.trainable=False"
      ]
    },
    {
      "cell_type": "markdown",
      "metadata": {
        "id": "MHrQvxmzDzM6"
      },
      "source": [
        "## Creating the top layer for my desired prediction"
      ]
    },
    {
      "cell_type": "code",
      "execution_count": 17,
      "metadata": {
        "id": "zegItfjrDzM7"
      },
      "outputs": [],
      "source": [
        "x=Flatten()(vgg19.output)\n",
        "prediction=Dense(len(folder),activation='softmax')(x)\n",
        "\n",
        "model_vgg=Model(inputs=vgg19.input,outputs=prediction)"
      ]
    },
    {
      "cell_type": "markdown",
      "metadata": {
        "id": "5IHnasnNDzM7"
      },
      "source": [
        "# Model Summary"
      ]
    },
    {
      "cell_type": "code",
      "execution_count": 18,
      "metadata": {
        "colab": {
          "base_uri": "https://localhost:8080/"
        },
        "id": "t_gsi6hFDzM8",
        "outputId": "368a12b8-6f48-4a52-c12e-06c0b59a0f76"
      },
      "outputs": [
        {
          "name": "stdout",
          "output_type": "stream",
          "text": [
            "Model: \"model\"\n",
            "_________________________________________________________________\n",
            " Layer (type)                Output Shape              Param #   \n",
            "=================================================================\n",
            " input_1 (InputLayer)        [(None, 128, 128, 3)]     0         \n",
            "                                                                 \n",
            " block1_conv1 (Conv2D)       (None, 128, 128, 64)      1792      \n",
            "                                                                 \n",
            " block1_conv2 (Conv2D)       (None, 128, 128, 64)      36928     \n",
            "                                                                 \n",
            " block1_pool (MaxPooling2D)  (None, 64, 64, 64)        0         \n",
            "                                                                 \n",
            " block2_conv1 (Conv2D)       (None, 64, 64, 128)       73856     \n",
            "                                                                 \n",
            " block2_conv2 (Conv2D)       (None, 64, 64, 128)       147584    \n",
            "                                                                 \n",
            " block2_pool (MaxPooling2D)  (None, 32, 32, 128)       0         \n",
            "                                                                 \n",
            " block3_conv1 (Conv2D)       (None, 32, 32, 256)       295168    \n",
            "                                                                 \n",
            " block3_conv2 (Conv2D)       (None, 32, 32, 256)       590080    \n",
            "                                                                 \n",
            " block3_conv3 (Conv2D)       (None, 32, 32, 256)       590080    \n",
            "                                                                 \n",
            " block3_conv4 (Conv2D)       (None, 32, 32, 256)       590080    \n",
            "                                                                 \n",
            " block3_pool (MaxPooling2D)  (None, 16, 16, 256)       0         \n",
            "                                                                 \n",
            " block4_conv1 (Conv2D)       (None, 16, 16, 512)       1180160   \n",
            "                                                                 \n",
            " block4_conv2 (Conv2D)       (None, 16, 16, 512)       2359808   \n",
            "                                                                 \n",
            " block4_conv3 (Conv2D)       (None, 16, 16, 512)       2359808   \n",
            "                                                                 \n",
            " block4_conv4 (Conv2D)       (None, 16, 16, 512)       2359808   \n",
            "                                                                 \n",
            " block4_pool (MaxPooling2D)  (None, 8, 8, 512)         0         \n",
            "                                                                 \n",
            " block5_conv1 (Conv2D)       (None, 8, 8, 512)         2359808   \n",
            "                                                                 \n",
            " block5_conv2 (Conv2D)       (None, 8, 8, 512)         2359808   \n",
            "                                                                 \n",
            " block5_conv3 (Conv2D)       (None, 8, 8, 512)         2359808   \n",
            "                                                                 \n",
            " block5_conv4 (Conv2D)       (None, 8, 8, 512)         2359808   \n",
            "                                                                 \n",
            " block5_pool (MaxPooling2D)  (None, 4, 4, 512)         0         \n",
            "                                                                 \n",
            " flatten (Flatten)           (None, 8192)              0         \n",
            "                                                                 \n",
            " dense (Dense)               (None, 10)                81930     \n",
            "                                                                 \n",
            "=================================================================\n",
            "Total params: 20,106,314\n",
            "Trainable params: 81,930\n",
            "Non-trainable params: 20,024,384\n",
            "_________________________________________________________________\n"
          ]
        }
      ],
      "source": [
        "model_vgg.summary()"
      ]
    },
    {
      "cell_type": "markdown",
      "metadata": {
        "id": "HWs_vzR7DzM9"
      },
      "source": [
        "# Compiling the model"
      ]
    },
    {
      "cell_type": "code",
      "execution_count": 19,
      "metadata": {
        "id": "SPc0ZB4TDzM-"
      },
      "outputs": [],
      "source": [
        "plateau = tf.keras.callbacks.ReduceLROnPlateau(\n",
        "            monitor='val_loss', \n",
        "            factor=0.2, \n",
        "            patience=7, \n",
        "            verbose=0,\n",
        "            mode='min')"
      ]
    },
    {
      "cell_type": "code",
      "execution_count": 20,
      "metadata": {
        "id": "YNKio8VWDzM_"
      },
      "outputs": [],
      "source": [
        "# model_vgg.compile(loss='categorical_crossentropy',optimizer='adam',metrics=['accuracy'],callbacks=[plateau])\n",
        "model_vgg.compile(loss='categorical_crossentropy',optimizer='adam',metrics=['accuracy'])"
      ]
    },
    {
      "cell_type": "code",
      "execution_count": 21,
      "metadata": {
        "id": "N9UTLIJgDzNB"
      },
      "outputs": [],
      "source": [
        "train_datagen=ImageDataGenerator(validation_split=0.2,rescale=1./255,horizontal_flip=True,rotation_range=.2,shear_range=.2)\n",
        "valid_datagen=ImageDataGenerator(rescale=1./255)"
      ]
    },
    {
      "cell_type": "code",
      "execution_count": 22,
      "metadata": {
        "id": "XAA9qub9dqFs"
      },
      "outputs": [],
      "source": [
        "TRAINING_DIR = '/content/drive/MyDrive/BTP/Dataset/dataset/New Plant Diseases Dataset(Augmented)/train/' \n",
        "TESTING_DIR = '/content/drive/MyDrive/BTP/Dataset/dataset/New Plant Diseases Dataset(Augmented)/valid/'"
      ]
    },
    {
      "cell_type": "code",
      "execution_count": 23,
      "metadata": {
        "colab": {
          "base_uri": "https://localhost:8080/"
        },
        "id": "rWiRvYhkDzNC",
        "outputId": "726756bb-772f-48ac-c3c8-11aeeb3d8269"
      },
      "outputs": [
        {
          "name": "stdout",
          "output_type": "stream",
          "text": [
            "Found 14678 images belonging to 10 classes.\n",
            "Found 3667 images belonging to 10 classes.\n",
            "Found 4585 images belonging to 10 classes.\n"
          ]
        }
      ],
      "source": [
        "train_set=train_datagen.flow_from_directory(TRAINING_DIR,\n",
        "                                            target_size=(128,128),\n",
        "                                            batch_size=16,\n",
        "                                            class_mode='categorical',\n",
        "                                            shuffle=True, \n",
        "                                            subset=\"training\")\n",
        "\n",
        "validation_generator = train_datagen.flow_from_directory(\n",
        "        TRAINING_DIR,\n",
        "        target_size=(128, 128),\n",
        "        batch_size=16,\n",
        "        class_mode='categorical',\n",
        "        shuffle=True,\n",
        "        subset=\"validation\")\n",
        "\n",
        "\n",
        "valid_set=valid_datagen.flow_from_directory(TESTING_DIR,\n",
        "                                            target_size=(128,128),\n",
        "                                            batch_size=16,\n",
        "                                            class_mode='categorical',\n",
        "                                            shuffle=False)"
      ]
    },
    {
      "cell_type": "code",
      "execution_count": 24,
      "metadata": {
        "colab": {
          "base_uri": "https://localhost:8080/"
        },
        "id": "kNjO8w2mDzNE",
        "outputId": "052fc744-6f35-455c-b55a-bb1a70995ba7"
      },
      "outputs": [
        {
          "name": "stdout",
          "output_type": "stream",
          "text": [
            "Epoch 1/50\n",
            "918/918 [==============================] - 144s 147ms/step - loss: 0.8155 - accuracy: 0.7280 - val_loss: 0.8132 - val_accuracy: 0.7295\n",
            "Epoch 2/50\n",
            "918/918 [==============================] - 126s 138ms/step - loss: 0.5011 - accuracy: 0.8294 - val_loss: 0.5792 - val_accuracy: 0.7998\n",
            "Epoch 3/50\n",
            "918/918 [==============================] - 127s 138ms/step - loss: 0.4012 - accuracy: 0.8637 - val_loss: 0.5050 - val_accuracy: 0.8238\n",
            "Epoch 4/50\n",
            "918/918 [==============================] - 127s 138ms/step - loss: 0.3554 - accuracy: 0.8789 - val_loss: 0.6102 - val_accuracy: 0.7903\n",
            "Epoch 5/50\n",
            "918/918 [==============================] - 126s 137ms/step - loss: 0.3138 - accuracy: 0.8935 - val_loss: 0.5743 - val_accuracy: 0.8072\n",
            "Epoch 6/50\n",
            "918/918 [==============================] - 126s 137ms/step - loss: 0.2944 - accuracy: 0.8969 - val_loss: 0.5001 - val_accuracy: 0.8339\n",
            "Epoch 7/50\n",
            "918/918 [==============================] - 126s 137ms/step - loss: 0.2551 - accuracy: 0.9133 - val_loss: 0.5041 - val_accuracy: 0.8315\n",
            "Epoch 8/50\n",
            "918/918 [==============================] - 125s 137ms/step - loss: 0.2347 - accuracy: 0.9210 - val_loss: 0.5371 - val_accuracy: 0.8124\n",
            "Epoch 9/50\n",
            "918/918 [==============================] - 126s 138ms/step - loss: 0.2154 - accuracy: 0.9268 - val_loss: 0.4872 - val_accuracy: 0.8416\n",
            "Epoch 10/50\n",
            "918/918 [==============================] - 126s 138ms/step - loss: 0.2057 - accuracy: 0.9285 - val_loss: 0.5743 - val_accuracy: 0.8214\n",
            "Epoch 11/50\n",
            "918/918 [==============================] - 125s 136ms/step - loss: 0.1828 - accuracy: 0.9387 - val_loss: 0.5312 - val_accuracy: 0.8402\n",
            "Epoch 12/50\n",
            "918/918 [==============================] - 127s 139ms/step - loss: 0.1801 - accuracy: 0.9383 - val_loss: 0.4726 - val_accuracy: 0.8440\n",
            "Epoch 13/50\n",
            "918/918 [==============================] - 124s 136ms/step - loss: 0.1715 - accuracy: 0.9405 - val_loss: 0.4971 - val_accuracy: 0.8527\n",
            "Epoch 14/50\n",
            "918/918 [==============================] - 127s 138ms/step - loss: 0.1540 - accuracy: 0.9475 - val_loss: 0.5726 - val_accuracy: 0.8200\n",
            "Epoch 15/50\n",
            "918/918 [==============================] - 124s 135ms/step - loss: 0.1432 - accuracy: 0.9516 - val_loss: 0.5100 - val_accuracy: 0.8397\n",
            "Epoch 16/50\n",
            "918/918 [==============================] - 125s 136ms/step - loss: 0.1320 - accuracy: 0.9554 - val_loss: 0.5140 - val_accuracy: 0.8560\n",
            "Epoch 17/50\n",
            "918/918 [==============================] - 124s 135ms/step - loss: 0.1305 - accuracy: 0.9567 - val_loss: 0.5125 - val_accuracy: 0.8437\n",
            "Epoch 18/50\n",
            "918/918 [==============================] - 124s 135ms/step - loss: 0.1199 - accuracy: 0.9596 - val_loss: 0.4863 - val_accuracy: 0.8459\n",
            "Epoch 19/50\n",
            "918/918 [==============================] - 124s 135ms/step - loss: 0.1093 - accuracy: 0.9616 - val_loss: 0.6539 - val_accuracy: 0.8189\n",
            "Epoch 20/50\n",
            "918/918 [==============================] - 129s 141ms/step - loss: 0.1056 - accuracy: 0.9637 - val_loss: 0.5292 - val_accuracy: 0.8467\n",
            "Epoch 21/50\n",
            "918/918 [==============================] - 125s 137ms/step - loss: 0.1087 - accuracy: 0.9619 - val_loss: 0.5600 - val_accuracy: 0.8467\n",
            "Epoch 22/50\n",
            "918/918 [==============================] - 123s 134ms/step - loss: 0.1043 - accuracy: 0.9650 - val_loss: 0.5446 - val_accuracy: 0.8410\n",
            "Epoch 23/50\n",
            "918/918 [==============================] - 123s 134ms/step - loss: 0.0870 - accuracy: 0.9715 - val_loss: 0.5689 - val_accuracy: 0.8451\n",
            "Epoch 24/50\n",
            "918/918 [==============================] - 124s 135ms/step - loss: 0.0916 - accuracy: 0.9674 - val_loss: 0.6718 - val_accuracy: 0.8307\n",
            "Epoch 25/50\n",
            "918/918 [==============================] - 124s 135ms/step - loss: 0.0814 - accuracy: 0.9728 - val_loss: 0.6128 - val_accuracy: 0.8394\n",
            "Epoch 26/50\n",
            "918/918 [==============================] - 122s 133ms/step - loss: 0.0861 - accuracy: 0.9706 - val_loss: 0.5478 - val_accuracy: 0.8462\n",
            "Epoch 27/50\n",
            "918/918 [==============================] - 123s 133ms/step - loss: 0.0734 - accuracy: 0.9769 - val_loss: 0.5457 - val_accuracy: 0.8546\n",
            "Epoch 28/50\n",
            "918/918 [==============================] - 122s 133ms/step - loss: 0.0784 - accuracy: 0.9745 - val_loss: 0.5491 - val_accuracy: 0.8538\n",
            "Epoch 29/50\n",
            "918/918 [==============================] - 121s 132ms/step - loss: 0.0743 - accuracy: 0.9740 - val_loss: 0.5531 - val_accuracy: 0.8557\n",
            "Epoch 30/50\n",
            "918/918 [==============================] - 123s 133ms/step - loss: 0.0635 - accuracy: 0.9794 - val_loss: 0.5858 - val_accuracy: 0.8476\n",
            "Epoch 31/50\n",
            "918/918 [==============================] - 122s 133ms/step - loss: 0.0648 - accuracy: 0.9791 - val_loss: 0.5650 - val_accuracy: 0.8533\n",
            "Epoch 32/50\n",
            "918/918 [==============================] - 121s 132ms/step - loss: 0.0605 - accuracy: 0.9803 - val_loss: 0.5770 - val_accuracy: 0.8495\n",
            "Epoch 33/50\n",
            "918/918 [==============================] - 122s 133ms/step - loss: 0.0580 - accuracy: 0.9817 - val_loss: 0.5670 - val_accuracy: 0.8508\n",
            "Epoch 34/50\n",
            "918/918 [==============================] - 121s 131ms/step - loss: 0.0649 - accuracy: 0.9783 - val_loss: 0.6732 - val_accuracy: 0.8342\n",
            "Epoch 35/50\n",
            "918/918 [==============================] - 121s 132ms/step - loss: 0.0471 - accuracy: 0.9854 - val_loss: 0.5212 - val_accuracy: 0.8596\n",
            "Epoch 36/50\n",
            "918/918 [==============================] - 122s 133ms/step - loss: 0.0554 - accuracy: 0.9824 - val_loss: 0.6628 - val_accuracy: 0.8405\n",
            "Epoch 37/50\n",
            "918/918 [==============================] - 121s 132ms/step - loss: 0.0458 - accuracy: 0.9866 - val_loss: 0.5722 - val_accuracy: 0.8576\n",
            "Epoch 38/50\n",
            "918/918 [==============================] - 122s 133ms/step - loss: 0.0541 - accuracy: 0.9836 - val_loss: 0.6015 - val_accuracy: 0.8478\n",
            "Epoch 39/50\n",
            "918/918 [==============================] - 121s 131ms/step - loss: 0.0462 - accuracy: 0.9856 - val_loss: 0.6343 - val_accuracy: 0.8476\n",
            "Epoch 40/50\n",
            "918/918 [==============================] - 126s 137ms/step - loss: 0.0495 - accuracy: 0.9829 - val_loss: 0.6054 - val_accuracy: 0.8467\n",
            "Epoch 41/50\n",
            "918/918 [==============================] - 124s 135ms/step - loss: 0.0441 - accuracy: 0.9862 - val_loss: 0.5865 - val_accuracy: 0.8590\n",
            "Epoch 42/50\n",
            "918/918 [==============================] - 124s 135ms/step - loss: 0.0481 - accuracy: 0.9851 - val_loss: 0.5902 - val_accuracy: 0.8533\n",
            "Epoch 43/50\n",
            "918/918 [==============================] - 123s 134ms/step - loss: 0.0356 - accuracy: 0.9897 - val_loss: 0.5875 - val_accuracy: 0.8623\n",
            "Epoch 44/50\n",
            "918/918 [==============================] - 123s 134ms/step - loss: 0.0393 - accuracy: 0.9875 - val_loss: 0.7400 - val_accuracy: 0.8405\n",
            "Epoch 45/50\n",
            "918/918 [==============================] - 122s 133ms/step - loss: 0.0454 - accuracy: 0.9860 - val_loss: 0.6450 - val_accuracy: 0.8522\n",
            "Epoch 46/50\n",
            "918/918 [==============================] - 122s 133ms/step - loss: 0.0401 - accuracy: 0.9872 - val_loss: 0.6304 - val_accuracy: 0.8487\n",
            "Epoch 47/50\n",
            "918/918 [==============================] - 125s 136ms/step - loss: 0.0346 - accuracy: 0.9896 - val_loss: 0.6516 - val_accuracy: 0.8506\n",
            "Epoch 48/50\n",
            "918/918 [==============================] - 123s 134ms/step - loss: 0.0301 - accuracy: 0.9916 - val_loss: 0.6964 - val_accuracy: 0.8397\n",
            "Epoch 49/50\n",
            "918/918 [==============================] - 123s 134ms/step - loss: 0.0413 - accuracy: 0.9872 - val_loss: 0.6302 - val_accuracy: 0.8541\n",
            "Epoch 50/50\n",
            "918/918 [==============================] - 124s 135ms/step - loss: 0.0393 - accuracy: 0.9861 - val_loss: 0.6520 - val_accuracy: 0.8530\n"
          ]
        }
      ],
      "source": [
        "#callback = tf.keras.callbacks.EarlyStopping(monitor='val_loss', patience=3)\n",
        "\n",
        "# tb_callback=tf.keras.callbacks.TensorBoard(log_dir=\"logs/\",histogram_freq=1)\n",
        "\n",
        "# history=model_vgg.fit(train_set,\n",
        "#                 validation_data=validation_generator,\n",
        "#                 epochs=9,\n",
        "#                 callbacks=[tb_callback]\n",
        "#                 )\n",
        "\n",
        "history=model_vgg.fit(train_set,\n",
        "                validation_data=validation_generator,\n",
        "                epochs=50)\n"
      ]
    },
    {
      "cell_type": "markdown",
      "metadata": {
        "id": "wYwYzDl5DzNH"
      },
      "source": [
        "# Visualizing the Fitting of the model"
      ]
    },
    {
      "cell_type": "code",
      "execution_count": 25,
      "metadata": {
        "colab": {
          "base_uri": "https://localhost:8080/",
          "height": 562
        },
        "id": "pNpnVB0JDzNI",
        "outputId": "1bf9c85f-4938-4024-bf2f-8e9712096e91"
      },
      "outputs": [
        {
          "data": {
            "text/plain": [
              "Text(0.5, 1.0, 'Training and validation loss')"
            ]
          },
          "execution_count": 25,
          "metadata": {},
          "output_type": "execute_result"
        },
        {
          "data": {
            "image/png": "[encoded data removed]",
            "text/plain": [
              "<Figure size 432x288 with 1 Axes>"
            ]
          },
          "metadata": {
            "needs_background": "light"
          },
          "output_type": "display_data"
        },
        {
          "data": {
            "image/png": "[encoded data removed]",
            "text/plain": [
              "<Figure size 432x288 with 1 Axes>"
            ]
          },
          "metadata": {
            "needs_background": "light"
          },
          "output_type": "display_data"
        }
      ],
      "source": [
        "%matplotlib inline\n",
        "\n",
        "import matplotlib.image  as mpimg\n",
        "import matplotlib.pyplot as plt\n",
        "\n",
        "#-----------------------------------------------------------\n",
        "# Retrieve a list of list results on training and test data\n",
        "# sets for each training epoch\n",
        "#-----------------------------------------------------------\n",
        "acc=history.history['accuracy']\n",
        "val_acc=history.history['val_accuracy']\n",
        "loss=history.history['loss']\n",
        "val_loss=history.history['val_loss']\n",
        "\n",
        "epochs=range(len(acc)) # Get number of epochs\n",
        "\n",
        "#------------------------------------------------\n",
        "# Plot training and validation accuracy per epoch\n",
        "#------------------------------------------------\n",
        "plt.plot(epochs, acc, 'r', )\n",
        "plt.plot(epochs, val_acc, 'b', )\n",
        "plt.title('Training and validation accuracy')\n",
        "plt.figure()\n",
        "\n",
        "#------------------------------------------------\n",
        "# Plot training and validation loss per epoch\n",
        "#------------------------------------------------\n",
        "plt.plot(epochs, loss, 'r', )\n",
        "plt.plot(epochs, val_loss, 'b', )\n",
        "\n",
        "\n",
        "plt.title('Training and validation loss')"
      ]
    },
    {
      "cell_type": "code",
      "execution_count": 27,
      "metadata": {
        "colab": {
          "base_uri": "https://localhost:8080/"
        },
        "id": "9NnJ1vf0xwe_",
        "outputId": "dc28ea6e-259f-44e8-ddaa-8071e7b94ad0"
      },
      "outputs": [
        {
          "name": "stdout",
          "output_type": "stream",
          "text": [
            "918/918 [==============================] - 99s 107ms/step - loss: 0.0373 - accuracy: 0.9879\n",
            "287/287 [==============================] - 15s 52ms/step - loss: 0.4796 - accuracy: 0.8838\n",
            "Training Loss is :0.03727676719427109\n",
            "Training Accuracy is :98.79411458969116 %\n",
            "Testing Loss is : 0.47957977652549744\n",
            "Testing Accuracy is : 88.3751392364502 %\n"
          ]
        }
      ],
      "source": [
        "# Scores is just a list containing loss and accuracy value\n",
        "scores=model_vgg.evaluate(train_set)\n",
        "scores2=model_vgg.evaluate(valid_set)\n",
        "print(\"Training Loss is :\"+str(scores[0]))\n",
        "print(\"Training Accuracy is :\"+str(scores[1]*100)+\" %\")\n",
        "print(\"Testing Loss is : \"+str(scores2[0]))\n",
        "print(\"Testing Accuracy is : \"+str(scores2[1]*100)+\" %\")"
      ]
    },
    {
      "cell_type": "markdown",
      "metadata": {
        "id": "uXJLkk7GDzNJ"
      },
      "source": [
        "# Predicting the model"
      ]
    },
    {
      "cell_type": "markdown",
      "metadata": {
        "id": "66ff928d"
      },
      "source": [
        "### %Load_ext tensorboard\n",
        "### %tensorboard --Logdir Logs/fit"
      ]
    },
    {
      "cell_type": "code",
      "execution_count": 26,
      "metadata": {
        "colab": {
          "base_uri": "https://localhost:8080/"
        },
        "id": "Yzra3J57DzNL",
        "outputId": "e4dc0734-5a65-4726-fd99-0760c8d3677e"
      },
      "outputs": [
        {
          "name": "stdout",
          "output_type": "stream",
          "text": [
            "287/287 [==============================] - 16s 56ms/step\n"
          ]
        }
      ],
      "source": [
        "y_pred=model_vgg.predict(valid_set)"
      ]
    },
    {
      "cell_type": "markdown",
      "metadata": {
        "id": "l3W6EVneDzNU"
      },
      "source": [
        "# saving the model"
      ]
    },
    {
      "cell_type": "code",
      "execution_count": 28,
      "metadata": {
        "id": "kCwbGxZkDzNV"
      },
      "outputs": [],
      "source": [
        "model_vgg.save('tomato_leaf_disease_model.h5')"
      ]
    },
    {
      "cell_type": "markdown",
      "metadata": {
        "id": "R0cW0FELDzNW"
      },
      "source": [
        "# Checking the prediction of the model"
      ]
    },
    {
      "cell_type": "code",
      "execution_count": 29,
      "metadata": {
        "id": "EnMKgvItDzNX"
      },
      "outputs": [],
      "source": [
        "import cv2\n",
        "def prepare(filepath):\n",
        "    img_array=cv2.imread(filepath,cv2.IMREAD_COLOR)\n",
        "    img_array=img_array/255\n",
        "    new_array=cv2.resize(img_array,(128,128))\n",
        "    return new_array.reshape(-1,128,128,3)"
      ]
    },
    {
      "cell_type": "code",
      "execution_count": 30,
      "metadata": {
        "colab": {
          "base_uri": "https://localhost:8080/"
        },
        "id": "umTS7n1IDzNX",
        "outputId": "21b7f4c9-58f0-4b8c-e3d6-7b865d79cd91"
      },
      "outputs": [
        {
          "data": {
            "text/plain": [
              "{'Tomato___Bacterial_spot': 0,\n",
              " 'Tomato___Early_blight': 1,\n",
              " 'Tomato___Late_blight': 2,\n",
              " 'Tomato___Leaf_Mold': 3,\n",
              " 'Tomato___Septoria_leaf_spot': 4,\n",
              " 'Tomato___Spider_mites Two-spotted_spider_mite': 5,\n",
              " 'Tomato___Target_Spot': 6,\n",
              " 'Tomato___Tomato_Yellow_Leaf_Curl_Virus': 7,\n",
              " 'Tomato___Tomato_mosaic_virus': 8,\n",
              " 'Tomato___healthy': 9}"
            ]
          },
          "execution_count": 30,
          "metadata": {},
          "output_type": "execute_result"
        }
      ],
      "source": [
        "class_dict=train_set.class_indices\n",
        "class_dict"
      ]
    },
    {
      "cell_type": "code",
      "execution_count": 31,
      "metadata": {
        "id": "2a6d1efyDzNZ"
      },
      "outputs": [],
      "source": [
        "def prediction_cls(prediction):\n",
        "    for key, clss in class_dict.items():\n",
        "        if np.argmax(prediction)==clss:\n",
        "            return key\n"
      ]
    },
    {
      "cell_type": "code",
      "execution_count": 32,
      "metadata": {
        "colab": {
          "base_uri": "https://localhost:8080/",
          "height": 70
        },
        "id": "xRfalzW_DzNZ",
        "outputId": "d86116a5-7655-4b99-dc7c-fb0e361f8fc8"
      },
      "outputs": [
        {
          "name": "stdout",
          "output_type": "stream",
          "text": [
            "Tomato___healthy\n",
            "1/1 [==============================] - 1s 695ms/step\n"
          ]
        },
        {
          "data": {
            "application/vnd.google.colaboratory.intrinsic+json": {
              "type": "string"
            },
            "text/plain": [
              "'Tomato___Septoria_leaf_spot'"
            ]
          },
          "execution_count": 32,
          "metadata": {},
          "output_type": "execute_result"
        }
      ],
      "source": [
        "ty=9\n",
        "index=6\n",
        "#import matplotlib.pyplot as plt\n",
        "print(folder[ty])\n",
        "pred=model_vgg.predict([prepare(valid_path+folder[ty]+\"/\"+(os.listdir(valid_path+folder[ty])[index]))])\n",
        "prediction_cls(pred)\n",
        "#plt.title(folder[ty])"
      ]
    },
    {
      "cell_type": "code",
      "execution_count": null,
      "metadata": {
        "id": "S7n5AuapDzNb"
      },
      "outputs": [],
      "source": []
    },
    {
      "cell_type": "code",
      "execution_count": null,
      "metadata": {
        "id": "gDDRiD7PDzNb"
      },
      "outputs": [],
      "source": []
    }
  ],
  "metadata": {
    "accelerator": "GPU",
    "colab": {
      "provenance": []
    },
    "gpuClass": "standard",
    "kernelspec": {
      "display_name": "Python 3.9.7 64-bit",
      "language": "python",
      "name": "python3"
    },
    "language_info": {
      "codemirror_mode": {
        "name": "ipython",
        "version": 3
      },
      "file_extension": ".py",
      "mimetype": "text/x-python",
      "name": "python",
      "nbconvert_exporter": "python",
      "pygments_lexer": "ipython3",
      "version": "3.11.6"
    },
    "orig_nbformat": 4,
    "vscode": {
      "interpreter": {
        "hash": "8c93b56f12893a73f3fb26b619faf35eb67f0f4410719b74190040acf104b72e"
      }
    }
  },
  "nbformat": 4,
  "nbformat_minor": 0
}
